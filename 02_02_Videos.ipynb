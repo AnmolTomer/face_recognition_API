{
 "cells": [
  {
   "cell_type": "markdown",
   "metadata": {},
   "source": [
    "## Videos\n",
    "- We apply Haar Cascade on the video to detect faces."
   ]
  },
  {
   "cell_type": "code",
   "execution_count": 1,
   "metadata": {},
   "outputs": [],
   "source": [
    "import numpy as np\n",
    "import cv2\n",
    "import matplotlib.pyplot as plt\n",
    "%matplotlib inline"
   ]
  },
  {
   "cell_type": "code",
   "execution_count": 7,
   "metadata": {},
   "outputs": [],
   "source": [
    "# Detect faces in video using Haar Cascade Model\n",
    "haar = cv2.CascadeClassifier('./data/haarcascade_frontalface_default.xml')"
   ]
  },
  {
   "cell_type": "code",
   "execution_count": 11,
   "metadata": {},
   "outputs": [],
   "source": [
    "# Create a function of face detect which is easier to work with\n",
    "def face_detect(img):\n",
    "    gray = cv2.cvtColor(img,cv2.COLOR_BGR2GRAY)\n",
    "    faces = haar.detectMultiScale(gray,1.3,5)\n",
    "    \n",
    "    for x,y,w,h in faces:\n",
    "        cv2.rectangle(img,(x,y),(x+w,y+h),(0,255,255),5)\n",
    "    return img"
   ]
  },
  {
   "cell_type": "code",
   "execution_count": 14,
   "metadata": {},
   "outputs": [],
   "source": [
    "joker = cv2.VideoCapture('./data/negative_thoughts.mp4')\n",
    "\n",
    "# Videos are collection of frames, 30 FPS = 30 images in one second, we need to have a while loop for images\n",
    "while True:\n",
    "    ret,frame= joker.read() # ret will return True if we can read the video else false, and frame is single image\n",
    "    if(ret == False):\n",
    "        break\n",
    "#     gray = cv2.cvtColor(frame,cv2.COLOR_BGR2GRAY)\n",
    "    frame = face_detect(frame)\n",
    "    cv2.imshow('Joker Movie Trailer Object Detection',frame)\n",
    "#     cv2.imshow('Joker Movie Trailer Object Detection In GrayScale',gray)\n",
    "    if cv2.waitKey(40) == 27: # ESC key = 27\n",
    "        break\n",
    "cv2.destroyAllWindows()\n",
    "joker.release()"
   ]
  },
  {
   "cell_type": "markdown",
   "metadata": {},
   "source": [
    "## Output - Color and Grayscale\n",
    "![](https://i.imgur.com/VO9Q67C.png)"
   ]
  },
  {
   "cell_type": "markdown",
   "metadata": {},
   "source": [
    "## Output Face Detection\n",
    "\n",
    "![](https://i.imgur.com/0vA96fW.png)\n",
    "![](https://i.imgur.com/QAhyTAR.jpg)\n",
    "![](https://i.imgur.com/w9SsGPv.png)\n",
    "![](https://i.imgur.com/nTWlAuX.png)\n",
    "![](https://i.imgur.com/jLXCi9O.png)\n",
    "![](https://i.imgur.com/1kTre4n.png)\n",
    "![](https://i.imgur.com/vX6sT2d.png)"
   ]
  }
 ],
 "metadata": {
  "kernelspec": {
   "display_name": "Python 3",
   "language": "python",
   "name": "python3"
  },
  "language_info": {
   "codemirror_mode": {
    "name": "ipython",
    "version": 3
   },
   "file_extension": ".py",
   "mimetype": "text/x-python",
   "name": "python",
   "nbconvert_exporter": "python",
   "pygments_lexer": "ipython3",
   "version": "3.7.7"
  }
 },
 "nbformat": 4,
 "nbformat_minor": 4
}
