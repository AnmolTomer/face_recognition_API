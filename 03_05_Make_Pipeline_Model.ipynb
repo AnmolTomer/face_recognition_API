{
 "cells": [
  {
   "cell_type": "code",
   "execution_count": 1,
   "metadata": {},
   "outputs": [],
   "source": [
    "import warnings\n",
    "warnings.filterwarnings('ignore')\n",
    "import numpy as np\n",
    "import pandas as pd\n",
    "import matplotlib.pyplot as plt\n",
    "import sklearn\n",
    "from PIL import Image\n",
    "import pickle\n",
    "import cv2\n",
    "%matplotlib inline"
   ]
  },
  {
   "cell_type": "code",
   "execution_count": 2,
   "metadata": {},
   "outputs": [
    {
     "name": "stdout",
     "output_type": "stream",
     "text": [
      "Model loaded sucessfully\n"
     ]
    }
   ],
   "source": [
    "# load all the models\n",
    "haar = cv2.CascadeClassifier('./model/haarcascade_frontalface_default.xml')\n",
    "# pickle files\n",
    "mean  = pickle.load(open('./model/mean_preprocess.pickle','rb'))\n",
    "model_svm  = pickle.load(open('./model/model_svm.pickle','rb'))\n",
    "model_pca  = pickle.load(open('./model/pca_50.pickle','rb'))\n",
    "\n",
    "print('Model loaded sucessfully')"
   ]
  },
  {
   "cell_type": "code",
   "execution_count": 3,
   "metadata": {},
   "outputs": [],
   "source": [
    "gender_pre = ['Male','Female']\n",
    "font = cv2.FONT_HERSHEY_SIMPLEX"
   ]
  },
  {
   "cell_type": "code",
   "execution_count": 45,
   "metadata": {},
   "outputs": [],
   "source": [
    "from nltk.classify.scikitlearn import SklearnClassifier"
   ]
  },
  {
   "cell_type": "code",
   "execution_count": 50,
   "metadata": {},
   "outputs": [],
   "source": [
    "# test data\n",
    "test_data_path = './data/male_000281.jpg'\n",
    "color = 'bgr'\n",
    "# step-1: read image\n",
    "img = cv2.imread(test_data_path)\n",
    "\n",
    "def pipeline_model(img,color='rgb'):\n",
    "    # step-2: convert into gray scale\n",
    "    if color == 'bgr':\n",
    "        gray = cv2.cvtColor(img,cv2.COLOR_BGR2GRAY)\n",
    "    else:\n",
    "        gray = cv2.cvtColor(img,cv2.COLOR_RGB2GRAY)\n",
    "    # step-3: crop the face (using haar cascase classifier)\n",
    "    faces = haar.detectMultiScale(gray,1.5,3)\n",
    "    for x,y,w,h in faces:\n",
    "        cv2.rectangle(img,(x,y),(x+w,y+h),(0,255,0),2) # drawing rectangle\n",
    "        roi = gray[y:y+h,x:x+w] # crop image\n",
    "        # step - 4: normalization (0-1)\n",
    "        roi = roi / 255.0\n",
    "        # step-5: resize images (100,100)\n",
    "        if roi.shape[1] > 100:\n",
    "            roi_resize = cv2.resize(roi,(100,100),cv2.INTER_AREA)\n",
    "        else:\n",
    "            roi_resize = cv2.resize(roi,(100,100),cv2.INTER_CUBIC)\n",
    "        # step-6: Flattening (1x10000)\n",
    "        roi_reshape = roi_resize.reshape(1,10000) # 1,-1\n",
    "        # step-7: subptract with mean\n",
    "        roi_mean = roi_reshape - mean\n",
    "        # step -8: get eigen image\n",
    "        eigen_image = model_pca.transform(roi_mean)\n",
    "        # step -9: pass to ml model (svm)\n",
    "        LinearSVC_classifier = SklearnClassifier(SVC(kernel='linear',probability=True))\n",
    "#         results = model_svm.predict_proba(eigen_image)[0]\n",
    "        results = LinearSVC_classifier.prob_classify.model_pca(eigen_image)[0]\n",
    "#         results = model_svm.probability(eigen_image)[0]\n",
    "        print(results)\n",
    "        # step -10:\n",
    "        predict = results.argmax() # 0 or 1 \n",
    "        score = results[predict]\n",
    "        # step -11:\n",
    "        text = \"%s : %0.2f\"%(gender_pre[predict],score)\n",
    "        cv2.putText(img,text,(x,y),font,1,(0,255,0),2)\n",
    "    return img"
   ]
  },
  {
   "cell_type": "code",
   "execution_count": 51,
   "metadata": {
    "scrolled": false
   },
   "outputs": [],
   "source": [
    "import matplotlib.image as mat_image"
   ]
  },
  {
   "cell_type": "code",
   "execution_count": 52,
   "metadata": {},
   "outputs": [],
   "source": [
    "test_data_path = './data/male_000281.jpg'\n",
    "color = 'bgr'\n",
    "# step-1: read image\n",
    "img = Image.open(test_data_path) # rgb\n",
    "# step2: convert into array\n",
    "img = np.array(img)"
   ]
  }
 ],
 "metadata": {
  "kernelspec": {
   "display_name": "Python 3",
   "language": "python",
   "name": "python3"
  },
  "language_info": {
   "codemirror_mode": {
    "name": "ipython",
    "version": 3
   },
   "file_extension": ".py",
   "mimetype": "text/x-python",
   "name": "python",
   "nbconvert_exporter": "python",
   "pygments_lexer": "ipython3",
   "version": "3.7.7"
  }
 },
 "nbformat": 4,
 "nbformat_minor": 4
}
